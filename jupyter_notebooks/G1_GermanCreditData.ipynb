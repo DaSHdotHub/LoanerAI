{
  "cells": [
    {
      "cell_type": "markdown",
      "metadata": {
        "id": "0aStgWSO0E0E"
      },
      "source": [
        "# **Risk Status Study Notebook**"
      ]
    },
    {
      "cell_type": "markdown",
      "metadata": {
        "id": "1eLEkw5O0ECa"
      },
      "source": [
        "## General Idea\n",
        "\n",
        "* A company aims to revolutionize its loan qualification process by automating and streamlining the assessment of online loan applications in real-time. The focus is on employing machine learning (ML) models that can accurately predict whether a loan should be approved for an applicant, based on the information provided during the application process. This initiative seeks to expedite the decision-making process, ensuring quick and efficient determination of loan eligibility.\n",
        "\n",
        "## Objectives\n",
        "\n",
        "* Business Requirement:\n",
        "Conduct exploratory data analysis (EDA) to understand patterns and trends in the data, such as the impact of education level, marital status, and income on loan approval. Therefore analyze the given data to identify common characteristics of applicants who default versus those who repay successfully. Try to make conclusions.\n",
        "\n",
        "\n",
        "## Inputs\n",
        "\n",
        "* outputs/datasets/collection/GermanCreditData.csv\n",
        "\n",
        "## Outputs\n",
        "\n",
        "* Generate code/ plots to underline they key patterns of the dataset. The output should give some evidence concerning the business requirement.\n",
        "\n",
        "## Additional Comments\n",
        "\n",
        "Risk \n",
        "*   \"0\" = \"bad applicant\"\n",
        "*   \"1\" = \"good applicant\"\n",
        "\n",
        "Content\n",
        "\n",
        "*   Age (numeric)\n",
        "*   Sex (text: male, female)\n",
        "*   Job (numeric: 0 - unskilled and non-resident, 1 - unskilled and resident, 2 - skilled, 3 - highly skilled)\n",
        "*   Housing (text: own, rent, or free)\n",
        "*   Saving accounts (text - little, moderate, quite rich, rich)\n",
        "*   Checking account (numeric, in DM - Deutsch Mark)\n",
        "*   Credit amount (numeric, in DM)\n",
        "*   Duration (numeric, in month)\n",
        "*   Purpose(text: car, furniture/equipment, radio/TV, domestic appliances, repairs, education, business, vacation/others\n",
        "*   Risk (Value target - Good or Bad Risk)\n",
        "\n"
      ]
    },
    {
      "cell_type": "markdown",
      "metadata": {
        "id": "9uWZXH9LwoQg"
      },
      "source": [
        "---"
      ]
    },
    {
      "cell_type": "markdown",
      "metadata": {
        "id": "cqP-UeN-z3i2"
      },
      "source": [
        "# Change working directory"
      ]
    },
    {
      "cell_type": "markdown",
      "metadata": {},
      "source": [
        "* We are assuming you will store the notebooks in a subfolder, therefore when running the notebook in the editor, you will need to change the working directory"
      ]
    },
    {
      "cell_type": "markdown",
      "metadata": {
        "id": "aOGIGS-uz3i2"
      },
      "source": [
        "We need to change the working directory from its current folder to its parent folder\n",
        "* We access the current directory with os.getcwd()"
      ]
    },
    {
      "cell_type": "code",
      "execution_count": null,
      "metadata": {
        "id": "wZfF_j-Bz3i4",
        "outputId": "66943449-1436-4c3d-85c7-b85f9f78349b"
      },
      "outputs": [],
      "source": [
        "import os\n",
        "current_dir = os.getcwd()\n",
        "current_dir"
      ]
    },
    {
      "cell_type": "markdown",
      "metadata": {
        "id": "9MWW8E7lz3i7"
      },
      "source": [
        "We want to make the parent of the current directory the new current directory\n",
        "* os.path.dirname() gets the parent directory\n",
        "* os.chir() defines the new current directory"
      ]
    },
    {
      "cell_type": "code",
      "execution_count": null,
      "metadata": {
        "id": "TwHsQRWjz3i9",
        "outputId": "86849db3-cd2f-4cc5-ebb8-2d0caafa1a2c"
      },
      "outputs": [],
      "source": [
        "os.chdir(os.path.dirname(current_dir))\n",
        "print(\"You set a new current directory\")"
      ]
    },
    {
      "cell_type": "markdown",
      "metadata": {
        "id": "M_xPk_Ijz3i-"
      },
      "source": [
        "Confirm the new current directory"
      ]
    },
    {
      "cell_type": "code",
      "execution_count": null,
      "metadata": {
        "id": "vz3S-_kjz3jA",
        "outputId": "00b79ae4-75d0-4a96-d193-ac9ef9847ea2"
      },
      "outputs": [],
      "source": [
        "current_dir = os.getcwd()\n",
        "current_dir"
      ]
    },
    {
      "cell_type": "markdown",
      "metadata": {
        "id": "-mavJ8DibrcQ"
      },
      "source": [
        "# Load Data\n",
        "\n",
        "The Load_ID variable is unique to each dataset and therefore will be dropped for the further analysis."
      ]
    },
    {
      "cell_type": "code",
      "execution_count": null,
      "metadata": {},
      "outputs": [],
      "source": [
        "import pandas as pd\n",
        "df = (pd.read_csv(\"outputs/datasets/collection/GermanCreditData.csv\")\n",
        "    .drop(['Unnamed: 0'], axis=1)\n",
        "    )\n",
        "df.head(3)"
      ]
    },
    {
      "cell_type": "markdown",
      "metadata": {
        "id": "ZY3l0-AxO93d"
      },
      "source": [
        "---"
      ]
    },
    {
      "cell_type": "markdown",
      "metadata": {},
      "source": [
        "# Data Exploration\n",
        "\n",
        "We are interested to get more familiar with the dataset, check variable type and distribution, missing levels and what these variables mean in a business context"
      ]
    },
    {
      "cell_type": "code",
      "execution_count": null,
      "metadata": {},
      "outputs": [],
      "source": [
        "from ydata_profiling import ProfileReport\n",
        "pandas_report = ProfileReport(df=df, minimal=True)\n",
        "pandas_report.to_notebook_iframe()"
      ]
    },
    {
      "cell_type": "markdown",
      "metadata": {},
      "source": [
        "---"
      ]
    },
    {
      "cell_type": "markdown",
      "metadata": {},
      "source": [
        "# Handling of missing Data\n",
        "\n",
        "Handling missing data is crucial for the upcoming Correlation Study to work, several strategies exist.\n",
        "* Dropping missing values\n",
        "* Imputation, e.g. with the help of mean/ median\n",
        "* Predictive Imputation\n",
        "\n",
        "In the following a simple imputation technique is used, based on `median` for numerical variables and `most_frequent` for categorical variables. The imputation takes place for missing values."
      ]
    },
    {
      "cell_type": "code",
      "execution_count": null,
      "metadata": {},
      "outputs": [],
      "source": [
        "from sklearn.impute import SimpleImputer\n",
        "from feature_engine.encoding import OneHotEncoder\n",
        "\n",
        "# For numerical variables\n",
        "imputer_num = SimpleImputer(strategy='median')\n",
        "numerical_vars = df.select_dtypes(include=['int64', 'float64']).columns\n",
        "df[numerical_vars] = imputer_num.fit_transform(df[numerical_vars])\n",
        "\n",
        "# For categorical variables\n",
        "imputer_cat = SimpleImputer(strategy='most_frequent')\n",
        "categorical_vars = df.select_dtypes(include=['object']).columns\n",
        "df[categorical_vars] = imputer_cat.fit_transform(df[categorical_vars])"
      ]
    },
    {
      "cell_type": "markdown",
      "metadata": {},
      "source": [
        "---"
      ]
    },
    {
      "cell_type": "markdown",
      "metadata": {
        "id": "uFQo3ycuO-v6"
      },
      "source": [
        "# Correlation Study"
      ]
    },
    {
      "cell_type": "code",
      "execution_count": null,
      "metadata": {},
      "outputs": [],
      "source": [
        "from feature_engine.encoding import OneHotEncoder\n",
        "encoder = OneHotEncoder(variables=df.columns[df.dtypes=='object'].to_list(), drop_last=False)\n",
        "df_ohe = encoder.fit_transform(df)\n",
        "print(df_ohe.shape)\n",
        "df_ohe.head(3)"
      ]
    },
    {
      "cell_type": "markdown",
      "metadata": {},
      "source": [
        "Make use of `.corr()` for `spearman` and `pearson` methods and investigate the top 10 correlations\n",
        "* This command returns a pandas series and the first item is the correlation between target and target, therfore target (Loan_Status) gets excluded. \n",
        "* We sort values considering the absolute value, by setting `key=abs`"
      ]
    },
    {
      "cell_type": "code",
      "execution_count": null,
      "metadata": {},
      "outputs": [],
      "source": [
        "corr_spearman = df_ohe.corr(method='spearman')['Risk'].sort_values(key=abs, ascending=False)[1:].head(10)\n",
        "corr_spearman"
      ]
    },
    {
      "cell_type": "markdown",
      "metadata": {},
      "source": [
        "Same goes for `pearson`"
      ]
    },
    {
      "cell_type": "code",
      "execution_count": null,
      "metadata": {},
      "outputs": [],
      "source": [
        "corr_pearson = df_ohe.corr(method='pearson')['Risk'].sort_values(key=abs, ascending=False)[1:].head(10)\n",
        "corr_pearson"
      ]
    },
    {
      "cell_type": "markdown",
      "metadata": {},
      "source": [
        "Both methods show up weak levels of correlation between Risk and a given variable, which indicate a weak linear and rank-order relationship between the variables and the target variable (Risk), a broader and more nuanced approach to EDA could provide deeper insights.\n",
        "Therefore a Bivariate Analysis and Multivariate Analysis will be looked at."
      ]
    },
    {
      "cell_type": "markdown",
      "metadata": {},
      "source": [
        "---"
      ]
    },
    {
      "cell_type": "markdown",
      "metadata": {},
      "source": [
        "# Variables Distribution by ['Risk']\n",
        "\n",
        "## Bivariate Analysis\n",
        "\n",
        "*   For categorical variables, use grouped bar charts to see how the categories relate to the target variable. \n",
        "*   For continuous variables, scatter plots or line plots should show insight.\n",
        "*   The distribution is plotted (numerical and categorical) coloured by Risk."
      ]
    },
    {
      "cell_type": "code",
      "execution_count": null,
      "metadata": {},
      "outputs": [],
      "source": [
        "import matplotlib.pyplot as plt\n",
        "import seaborn as sns\n",
        "sns.set_style('whitegrid')\n",
        "vars_to_study = [col for col in df.columns if col != 'Risk']\n",
        "\n",
        "def plot_categorical(df, col, target_var):\n",
        "\n",
        "    plt.figure(figsize=(12, 5))\n",
        "    sns.countplot(data=df, x=col, hue=target_var, order=df[col].value_counts().index)\n",
        "    plt.xticks(rotation=90)\n",
        "    plt.title(f\"{col} vs Risk Distribution\" , fontsize=20, y=1.05)\n",
        "    plt.show()\n",
        "\n",
        "\n",
        "def plot_numerical(df, col, target_var):\n",
        "    plt.figure(figsize=(8, 5))\n",
        "    sns.histplot(data=df, x=col, hue=target_var, kde=True, element=\"step\")\n",
        "    plt.title(f\"{col} vs Risk Distribution\", fontsize=20, y=1.05)\n",
        "    plt.show()\n",
        "\n",
        "\n",
        "target_var = 'Risk'\n",
        "for col in vars_to_study:\n",
        "    if df[col].dtype == 'object':\n",
        "        plot_categorical(df, col, target_var)\n",
        "        print(\"\\n\\n\")\n",
        "    else:\n",
        "        plot_numerical(df, col, target_var)\n",
        "        print(\"\\n\\n\")\n"
      ]
    },
    {
      "cell_type": "markdown",
      "metadata": {},
      "source": [
        "## Multivariant Analysis\n",
        "\n",
        "Finding \"common sense\" combinations for multivariate analysis is challenging because it requires a deep understanding of the domain and the realtionship between multiple variables. This complexity arises from the need to identify how different features might interact in non-obvious ways to influence outcomes, making it difficult to predict without extensive knowledge of the specific context and the underlying data relationships.\n",
        "\n",
        "*   For simplicity, let's focus on 'Housing' as an example of financial stability.\n",
        "*   For a second plot-set we will focus on purpose with combination on creit amount and duration."
      ]
    },
    {
      "cell_type": "code",
      "execution_count": null,
      "metadata": {},
      "outputs": [],
      "source": [
        "sns.catplot(x=\"Housing\", hue=\"Risk\", col=\"Saving accounts\", kind=\"count\", data=df, aspect=.8, col_wrap=4)\n",
        "plt.subplots_adjust(top=0.9)\n",
        "plt.suptitle(\"Risk Distribution by Housing and Saving Account Status\")\n",
        "plt.show()"
      ]
    },
    {
      "cell_type": "code",
      "execution_count": null,
      "metadata": {},
      "outputs": [],
      "source": [
        "g = sns.FacetGrid(df, col=\"Purpose\", hue=\"Risk\", margin_titles=True, height=3.5, col_wrap=4)\n",
        "g.map(sns.scatterplot, \"Duration\", \"Credit amount\")\n",
        "g.add_legend()\n",
        "g.set_axis_labels(\"Duration\", \"Credit Amount\")\n",
        "g.set_titles(\"{col_name}\")\n",
        "plt.show()"
      ]
    },
    {
      "cell_type": "markdown",
      "metadata": {},
      "source": [
        "---"
      ]
    },
    {
      "cell_type": "markdown",
      "metadata": {},
      "source": [
        "### Age and Credit Risk\n",
        "**Hypothesis:**\n",
        "\n",
        "Older applicants are less likely to be classified as bad credit risks compared to younger applicants.\n",
        "\n",
        "**Validation:**\n",
        "\n",
        "Perform a logistic regression analysis with \"Risk\" as the dependent variable and \"Age\" as an independent variable. Additionally, a visualization (e.g., boxplot) showing the distribution of ages for good vs. bad credit risks could provide initial insights. The significance of the age coefficient in the regression model would indicate the impact of age on credit risk."
      ]
    },
    {
      "cell_type": "code",
      "execution_count": null,
      "metadata": {},
      "outputs": [],
      "source": [
        "from sklearn.model_selection import train_test_split\n",
        "from sklearn.linear_model import LogisticRegression\n",
        "import numpy as np\n",
        "\n",
        "# Independent and dependent variables\n",
        "X = df[['Age']]\n",
        "y = df['Ris']\n",
        "\n",
        "# Splitting the data into training and testing sets\n",
        "X_train, X_test, y_train, y_test = train_test_split(X, y, test_size=0.2, random_state=42)\n",
        "\n",
        "# Logistic regression model\n",
        "model = LogisticRegression()\n",
        "model.fit(X_train, y_train)\n",
        "\n",
        "# Getting the coefficient for Age\n",
        "age_coefficient = model.coef_[0][0]\n",
        "print(f\"Coefficient for Age: {age_coefficient}\")\n",
        "\n",
        "# A positive coefficient would indicate that as age increases, the log-odds of being a good risk (encoded as 1) increases,\n",
        "# whereas a negative coefficient would indicate that as age increases, the likelihood of being a bad risk increases."
      ]
    },
    {
      "cell_type": "markdown",
      "metadata": {},
      "source": [
        "#### Conclusion\n",
        "A positive coefficient for age, e.g. 0.0291, means that as people get older, they're slightly more likely to be seen as having a lower risk of defaulting on credit. This backs up the idea that older applicants might be safer bets for lenders. In simple terms, the older you are, the better your chances might be of being considered a good risk for a loan, although this effect seems quite small."
      ]
    },
    {
      "cell_type": "markdown",
      "metadata": {},
      "source": [
        "---"
      ]
    },
    {
      "cell_type": "markdown",
      "metadata": {},
      "source": [
        "### Impact of Savings and Checking Account Balances on Credit Risk\n",
        "\n",
        "**Hypothesis:**\n",
        "\n",
        "Applicants with little savings or checking account balances are more likely to be classified as bad credit risks.\n",
        "\n",
        "**Validation:**\n",
        "\n",
        "Conduct logistic regression analysis with \"Risk\" as the dependent variable and categorical encodings of \"Saving accounts\" and \"Checking account\" as independent variables. An ANOVA test could be used if transforming account balances into numerical categories or bins to see if there are statistically significant differences in risk classification across different levels of savings and checking account balances."
      ]
    },
    {
      "cell_type": "code",
      "execution_count": null,
      "metadata": {},
      "outputs": [],
      "source": [
        "import pandas as pd\n",
        "from sklearn.model_selection import train_test_split\n",
        "from sklearn.linear_model import LogisticRegression\n",
        "from sklearn.preprocessing import LabelEncoder\n",
        "\n",
        "# Step 1: Load the dataset\n",
        "data = pd.read_csv('your_dataset.csv')\n",
        "\n",
        "# Step 2: Data Preparation\n",
        "# Handle missing values\n",
        "data.fillna(method='ffill', inplace=True)\n",
        "\n",
        "# Encode categorical variables\n",
        "label_encoder = LabelEncoder()\n",
        "data['Saving accounts'] = label_encoder.fit_transform(data['Saving accounts'])\n",
        "data['Checking account'] = label_encoder.fit_transform(data['Checking account'])\n",
        "\n",
        "# Step 3: Exploratory Data Analysis (EDA)\n",
        "# Optional: Explore the dataset using summary statistics and visualizations\n",
        "\n",
        "# Step 4: Hypothesis Testing\n",
        "# Split data into train and test sets\n",
        "X = data[['Saving accounts', 'Checking account']]\n",
        "y = data['Risk']\n",
        "X_train, X_test, y_train, y_test = train_test_split(X, y, test_size=0.2, random_state=42)\n",
        "\n",
        "# Fit logistic regression model\n",
        "model = LogisticRegression()\n",
        "model.fit(X_train, y_train)\n",
        "\n",
        "# Evaluate the model\n",
        "accuracy = model.score(X_test, y_test)\n",
        "print(f\"Accuracy: {accuracy}\")\n"
      ]
    },
    {
      "cell_type": "markdown",
      "metadata": {},
      "source": [
        "#### Conclusions\n",
        "\n",
        "An accuracy of e.g. 0.705 means that the logistic regression model correctly predicted the risk classification for approximately 70.5% of the test instances.\n",
        "\n",
        "In the context of credit risk assessment, this accuracy indicates how well the model performs in classifying applicants into \"good\" or \"bad\" credit risks based on their savings and checking account balances.\n",
        "\n",
        "A ANOVA test or other statistical could validate this hypothesis even more."
      ]
    },
    {
      "cell_type": "markdown",
      "metadata": {},
      "source": [
        "---"
      ]
    },
    {
      "cell_type": "markdown",
      "metadata": {},
      "source": [
        "# Conclusions\n",
        "\n",
        "The analysis of the correlations revealed only weak correlations, looking at the bi- and multivariant analysis leads to following assumptions:\n",
        "\n",
        "Homeownership and Loan Applications:\n",
        "*   Homeowners are more likely to take out loans than renters or those without rental expenses. This could be due to homeowners feeling more financially secure or needing loans for home maintenance and improvements.\n",
        "\n",
        "Purpose of Loans - Cars:\n",
        "*   A notable number of loans are for purchasing vehicles. This indicates that car loans are popular, possibly because of the essential role cars play in personal transportation or the attractive financing options available for these purchases.\n",
        "\n",
        "Savings Accounts and Loan Behavior:\n",
        "*   Individuals with smaller savings accounts are more inclined to apply for loans, possibly due to greater financial needs. In contrast, those with more substantial savings not only seek fewer loans but also have a higher rate of repayment. This suggests that people with larger savings are in a better financial position, leading to more prudent borrowing and repayment practices."
      ]
    }
  ],
  "metadata": {
    "accelerator": "GPU",
    "colab": {
      "name": "Data Practitioner Jupyter Notebook.ipynb",
      "provenance": [],
      "toc_visible": true
    },
    "interpreter": {
      "hash": "8b8334dab9339717f727a1deaf837b322d7a41c20d15cc86be99a8e69ceec8ce"
    },
    "kernelspec": {
      "display_name": "Python 3.8.12 64-bit ('3.8.12': pyenv)",
      "name": "python3"
    },
    "language_info": {
      "codemirror_mode": {
        "name": "ipython",
        "version": 3
      },
      "file_extension": ".py",
      "mimetype": "text/x-python",
      "name": "python",
      "nbconvert_exporter": "python",
      "pygments_lexer": "ipython3",
      "version": "3.8.18"
    },
    "orig_nbformat": 2
  },
  "nbformat": 4,
  "nbformat_minor": 2
}
